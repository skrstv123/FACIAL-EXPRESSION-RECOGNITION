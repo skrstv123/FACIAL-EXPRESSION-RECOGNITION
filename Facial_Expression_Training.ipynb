{
  "nbformat": 4,
  "nbformat_minor": 0,
  "metadata": {
    "accelerator": "GPU",
    "colab": {
      "name": "Facial_Expression_Training.ipynb",
      "provenance": [],
      "collapsed_sections": [],
      "toc_visible": true
    },
    "kernelspec": {
      "display_name": "Python 3",
      "language": "python",
      "name": "python3"
    },
    "language_info": {
      "codemirror_mode": {
        "name": "ipython",
        "version": 3
      },
      "file_extension": ".py",
      "mimetype": "text/x-python",
      "name": "python",
      "nbconvert_exporter": "python",
      "pygments_lexer": "ipython3",
      "version": "3.6.4"
    }
  },
  "cells": [
    {
      "cell_type": "markdown",
      "metadata": {
        "id": "dYBOo2OO85y4",
        "colab_type": "text"
      },
      "source": [
        "<h2 align=center> Facial Expression Recognition</h2>"
      ]
    },
    {
      "cell_type": "code",
      "metadata": {
        "colab_type": "code",
        "id": "wvGxjjeV-9Ls",
        "colab": {
          "base_uri": "https://localhost:8080/",
          "height": 34
        },
        "outputId": "d9bb8e7e-0333-46f1-a445-268775b2f4ef"
      },
      "source": [
        "import numpy as np\n",
        "import seaborn as sns\n",
        "import matplotlib.pyplot as plt\n",
        "import os\n",
        "import cv2 \n",
        "from skimage import io\n",
        "from tensorflow.keras.preprocessing.image import ImageDataGenerator\n",
        "from tensorflow.keras.layers import Dense, Input, Dropout,Flatten, Conv2D\n",
        "from tensorflow.keras.layers import BatchNormalization, Activation, MaxPooling2D\n",
        "from tensorflow.keras.models import Model, Sequential\n",
        "from tensorflow.keras.optimizers import Adam\n",
        "from tensorflow.keras.callbacks import ModelCheckpoint, ReduceLROnPlateau\n",
        "from tensorflow.keras.utils import plot_model\n",
        "\n",
        "import tensorflow as tf\n",
        "print(\"Tensorflow version:\", tf.__version__)"
      ],
      "execution_count": null,
      "outputs": [
        {
          "output_type": "stream",
          "text": [
            "Tensorflow version: 2.3.0\n"
          ],
          "name": "stdout"
        }
      ]
    },
    {
      "cell_type": "code",
      "metadata": {
        "id": "qCmAIl0I94E1",
        "colab_type": "code",
        "colab": {}
      },
      "source": [
        "import requests\n",
        "with open(\"dt.zip\", \"wb\") as dz: dz.write(requests.get(\"https://d3c33hcgiwev3.cloudfront.net/dopISneuSBGKSEp3rhgRew_d24af2d5210545f89c6639f42e84c1b3_Project.zip?Expires=1599177600&Signature=Q2OnMTWe9Rs8slSd4l~X9kgseYTEodgUYXLPQxCl6I11yrdm3-fNx3J7N6qKahaRncDFAg9TPtvncAPnV4KE3Og9N4UadDAr1Zwc-4xo3PRdQxxjodjUoWzh~bzeemzunGYEDoFR~53tVmX~9mCAkyYEeIiLHPHGrvcgUkVM0Bc_&Key-Pair-Id=APKAJLTNE6QMUY6HBC5A\").content)"
      ],
      "execution_count": null,
      "outputs": []
    },
    {
      "cell_type": "code",
      "metadata": {
        "id": "1bdzYlJb-fh5",
        "colab_type": "code",
        "colab": {}
      },
      "source": [
        "from zipfile import ZipFile \n",
        "with ZipFile(\"/content/dt.zip\") as zf:\n",
        "    zf.extractall(\"/content/data\")"
      ],
      "execution_count": null,
      "outputs": []
    },
    {
      "cell_type": "code",
      "metadata": {
        "id": "mSc5aVDP_2Uu",
        "colab_type": "code",
        "colab": {}
      },
      "source": [
        "train_dir = \"/content/data/Project/train/\"\n",
        "test_dir = \"/content/data/Project/test/\""
      ],
      "execution_count": null,
      "outputs": []
    },
    {
      "cell_type": "code",
      "metadata": {
        "colab_type": "code",
        "id": "TalL_1Qr-9Qz",
        "colab": {
          "base_uri": "https://localhost:8080/",
          "height": 134
        },
        "outputId": "209c6837-f873-4bae-8651-42b8ea5eed66"
      },
      "source": [
        "for expression in os.listdir(train_dir):\n",
        "    print(str(len(os.listdir(train_dir + expression))) + \" \" + expression + \" images\")"
      ],
      "execution_count": null,
      "outputs": [
        {
          "output_type": "stream",
          "text": [
            "3995 angry images\n",
            "4097 fear images\n",
            "7214 happy images\n",
            "4830 sad images\n",
            "436 disgust images\n",
            "3171 surprise images\n",
            "4965 neutral images\n"
          ],
          "name": "stdout"
        }
      ]
    },
    {
      "cell_type": "markdown",
      "metadata": {
        "id": "RXAE8h1F85zF",
        "colab_type": "text"
      },
      "source": [
        "### Generate Training and Validation Batches"
      ]
    },
    {
      "cell_type": "code",
      "metadata": {
        "colab_type": "code",
        "id": "iri8ehFw-9Tj",
        "colab": {
          "base_uri": "https://localhost:8080/",
          "height": 50
        },
        "outputId": "9b062faf-4966-4843-c010-330c76c24658"
      },
      "source": [
        "img_size = 48\n",
        "batch_size = 64\n",
        "\n",
        "datagen_train = ImageDataGenerator(horizontal_flip=True)\n",
        "\n",
        "train_generator = datagen_train.flow_from_directory(train_dir,\n",
        "                                                    target_size=(img_size,img_size),\n",
        "                                                    color_mode=\"grayscale\",\n",
        "                                                    batch_size=batch_size,\n",
        "                                                    class_mode='categorical',\n",
        "                                                    shuffle=True)\n",
        "\n",
        "datagen_validation = ImageDataGenerator(horizontal_flip=True)\n",
        "validation_generator = datagen_validation.flow_from_directory(test_dir,\n",
        "                                                    target_size=(img_size,img_size),\n",
        "                                                    color_mode=\"grayscale\",\n",
        "                                                    batch_size=batch_size,\n",
        "                                                    class_mode='categorical',\n",
        "                                                    shuffle=False)"
      ],
      "execution_count": null,
      "outputs": [
        {
          "output_type": "stream",
          "text": [
            "Found 28708 images belonging to 7 classes.\n",
            "Found 7178 images belonging to 7 classes.\n"
          ],
          "name": "stdout"
        }
      ]
    },
    {
      "cell_type": "code",
      "metadata": {
        "id": "MCj9pjQWJFwB",
        "colab_type": "code",
        "colab": {
          "base_uri": "https://localhost:8080/",
          "height": 134
        },
        "outputId": "171d40f0-55c7-47f1-aa20-38832b36e402"
      },
      "source": [
        "train_generator.class_indices"
      ],
      "execution_count": null,
      "outputs": [
        {
          "output_type": "execute_result",
          "data": {
            "text/plain": [
              "{'angry': 0,\n",
              " 'disgust': 1,\n",
              " 'fear': 2,\n",
              " 'happy': 3,\n",
              " 'neutral': 4,\n",
              " 'sad': 5,\n",
              " 'surprise': 6}"
            ]
          },
          "metadata": {
            "tags": []
          },
          "execution_count": 19
        }
      ]
    },
    {
      "cell_type": "markdown",
      "metadata": {
        "id": "TZ366web85zJ",
        "colab_type": "text"
      },
      "source": [
        "### Create CNN Model"
      ]
    },
    {
      "cell_type": "code",
      "metadata": {
        "id": "rw26xoAo85zJ",
        "colab_type": "code",
        "colab": {
          "base_uri": "https://localhost:8080/",
          "height": 1000
        },
        "outputId": "9cd7e343-8593-4613-d1ce-27fb26c1f491"
      },
      "source": [
        "# Initialising the CNN\n",
        "model = Sequential()\n",
        "\n",
        "# 1 - Convolution\n",
        "model.add(Conv2D(64,(3,3), padding='same', input_shape=(48, 48,1)))\n",
        "model.add(BatchNormalization())\n",
        "model.add(Activation('relu'))\n",
        "model.add(MaxPooling2D(pool_size=(2, 2)))\n",
        "model.add(Dropout(0.25))\n",
        "\n",
        "# 2nd Convolution layer\n",
        "model.add(Conv2D(128,(5,5), padding='same'))\n",
        "model.add(BatchNormalization())\n",
        "model.add(Activation('relu'))\n",
        "model.add(MaxPooling2D(pool_size=(2, 2)))\n",
        "model.add(Dropout(0.25))\n",
        "\n",
        "# 3rd Convolution layer\n",
        "model.add(Conv2D(512,(3,3), padding='same'))\n",
        "model.add(BatchNormalization())\n",
        "model.add(Activation('relu'))\n",
        "model.add(MaxPooling2D(pool_size=(2, 2)))\n",
        "model.add(Dropout(0.25))\n",
        "\n",
        "# 4th Convolution layer\n",
        "model.add(Conv2D(512,(3,3), padding='same'))\n",
        "model.add(BatchNormalization())\n",
        "model.add(Activation('relu'))\n",
        "model.add(MaxPooling2D(pool_size=(2, 2)))\n",
        "model.add(Dropout(0.25))\n",
        "\n",
        "# Flattening\n",
        "model.add(Flatten())\n",
        "\n",
        "# Fully connected layer 1st layer\n",
        "model.add(Dense(256))\n",
        "model.add(BatchNormalization())\n",
        "model.add(Activation('relu'))\n",
        "model.add(Dropout(0.25))\n",
        "\n",
        "# Fully connected layer 2nd layer\n",
        "model.add(Dense(512))\n",
        "model.add(BatchNormalization())\n",
        "model.add(Activation('relu'))\n",
        "model.add(Dropout(0.25))\n",
        "\n",
        "model.add(Dense(7, activation='softmax'))\n",
        "\n",
        "opt = Adam(lr=0.0005)\n",
        "model.compile(optimizer=opt, loss='categorical_crossentropy', metrics=['accuracy'])\n",
        "model.summary()"
      ],
      "execution_count": null,
      "outputs": [
        {
          "output_type": "stream",
          "text": [
            "Model: \"sequential\"\n",
            "_________________________________________________________________\n",
            "Layer (type)                 Output Shape              Param #   \n",
            "=================================================================\n",
            "conv2d (Conv2D)              (None, 48, 48, 64)        640       \n",
            "_________________________________________________________________\n",
            "batch_normalization (BatchNo (None, 48, 48, 64)        256       \n",
            "_________________________________________________________________\n",
            "activation (Activation)      (None, 48, 48, 64)        0         \n",
            "_________________________________________________________________\n",
            "max_pooling2d (MaxPooling2D) (None, 24, 24, 64)        0         \n",
            "_________________________________________________________________\n",
            "dropout (Dropout)            (None, 24, 24, 64)        0         \n",
            "_________________________________________________________________\n",
            "conv2d_1 (Conv2D)            (None, 24, 24, 128)       204928    \n",
            "_________________________________________________________________\n",
            "batch_normalization_1 (Batch (None, 24, 24, 128)       512       \n",
            "_________________________________________________________________\n",
            "activation_1 (Activation)    (None, 24, 24, 128)       0         \n",
            "_________________________________________________________________\n",
            "max_pooling2d_1 (MaxPooling2 (None, 12, 12, 128)       0         \n",
            "_________________________________________________________________\n",
            "dropout_1 (Dropout)          (None, 12, 12, 128)       0         \n",
            "_________________________________________________________________\n",
            "conv2d_2 (Conv2D)            (None, 12, 12, 512)       590336    \n",
            "_________________________________________________________________\n",
            "batch_normalization_2 (Batch (None, 12, 12, 512)       2048      \n",
            "_________________________________________________________________\n",
            "activation_2 (Activation)    (None, 12, 12, 512)       0         \n",
            "_________________________________________________________________\n",
            "max_pooling2d_2 (MaxPooling2 (None, 6, 6, 512)         0         \n",
            "_________________________________________________________________\n",
            "dropout_2 (Dropout)          (None, 6, 6, 512)         0         \n",
            "_________________________________________________________________\n",
            "conv2d_3 (Conv2D)            (None, 6, 6, 512)         2359808   \n",
            "_________________________________________________________________\n",
            "batch_normalization_3 (Batch (None, 6, 6, 512)         2048      \n",
            "_________________________________________________________________\n",
            "activation_3 (Activation)    (None, 6, 6, 512)         0         \n",
            "_________________________________________________________________\n",
            "max_pooling2d_3 (MaxPooling2 (None, 3, 3, 512)         0         \n",
            "_________________________________________________________________\n",
            "dropout_3 (Dropout)          (None, 3, 3, 512)         0         \n",
            "_________________________________________________________________\n",
            "flatten (Flatten)            (None, 4608)              0         \n",
            "_________________________________________________________________\n",
            "dense (Dense)                (None, 256)               1179904   \n",
            "_________________________________________________________________\n",
            "batch_normalization_4 (Batch (None, 256)               1024      \n",
            "_________________________________________________________________\n",
            "activation_4 (Activation)    (None, 256)               0         \n",
            "_________________________________________________________________\n",
            "dropout_4 (Dropout)          (None, 256)               0         \n",
            "_________________________________________________________________\n",
            "dense_1 (Dense)              (None, 512)               131584    \n",
            "_________________________________________________________________\n",
            "batch_normalization_5 (Batch (None, 512)               2048      \n",
            "_________________________________________________________________\n",
            "activation_5 (Activation)    (None, 512)               0         \n",
            "_________________________________________________________________\n",
            "dropout_5 (Dropout)          (None, 512)               0         \n",
            "_________________________________________________________________\n",
            "dense_2 (Dense)              (None, 7)                 3591      \n",
            "=================================================================\n",
            "Total params: 4,478,727\n",
            "Trainable params: 4,474,759\n",
            "Non-trainable params: 3,968\n",
            "_________________________________________________________________\n"
          ],
          "name": "stdout"
        }
      ]
    },
    {
      "cell_type": "markdown",
      "metadata": {
        "id": "iKgHTfzS85zN",
        "colab_type": "text"
      },
      "source": [
        "### Train and Evaluate Model"
      ]
    },
    {
      "cell_type": "code",
      "metadata": {
        "id": "H-ESL9AO85zN",
        "colab_type": "code",
        "colab": {
          "base_uri": "https://localhost:8080/",
          "height": 1000
        },
        "outputId": "b9dbbcf7-4f21-4a93-b523-b22b64051bf0"
      },
      "source": [
        "epochs = 15\n",
        "steps_per_epoch = train_generator.n//train_generator.batch_size\n",
        "validation_steps = validation_generator.n//validation_generator.batch_size\n",
        "\n",
        "reduce_lr = ReduceLROnPlateau(monitor='val_loss', factor=0.1,\n",
        "                              patience=2, min_lr=0.00001, mode='auto')\n",
        "checkpoint = ModelCheckpoint(\"model_best.h5\", monitor='val_accuracy',\n",
        "                             save_weights_only=False, mode='max', verbose=1)\n",
        "callbacks = [checkpoint, reduce_lr]\n",
        "\n",
        "history = model.fit(\n",
        "    x=train_generator,\n",
        "    steps_per_epoch=steps_per_epoch,\n",
        "    epochs=epochs,\n",
        "    validation_data = validation_generator,\n",
        "    validation_steps = validation_steps,\n",
        "    callbacks=callbacks\n",
        ")"
      ],
      "execution_count": null,
      "outputs": [
        {
          "output_type": "stream",
          "text": [
            "Epoch 1/15\n",
            "447/448 [============================>.] - ETA: 0s - loss: 1.8145 - accuracy: 0.2988\n",
            "Epoch 00001: saving model to model_best.h5\n",
            "448/448 [==============================] - 15s 32ms/step - loss: 1.8140 - accuracy: 0.2991 - val_loss: 1.7240 - val_accuracy: 0.3662\n",
            "Epoch 2/15\n",
            "448/448 [==============================] - ETA: 0s - loss: 1.4857 - accuracy: 0.4301\n",
            "Epoch 00002: saving model to model_best.h5\n",
            "448/448 [==============================] - 14s 31ms/step - loss: 1.4857 - accuracy: 0.4301 - val_loss: 1.4219 - val_accuracy: 0.4665\n",
            "Epoch 3/15\n",
            "448/448 [==============================] - ETA: 0s - loss: 1.3384 - accuracy: 0.4850\n",
            "Epoch 00003: saving model to model_best.h5\n",
            "448/448 [==============================] - 14s 31ms/step - loss: 1.3384 - accuracy: 0.4850 - val_loss: 1.3120 - val_accuracy: 0.4807\n",
            "Epoch 4/15\n",
            "448/448 [==============================] - ETA: 0s - loss: 1.2586 - accuracy: 0.5193\n",
            "Epoch 00004: saving model to model_best.h5\n",
            "448/448 [==============================] - 14s 31ms/step - loss: 1.2586 - accuracy: 0.5193 - val_loss: 1.2887 - val_accuracy: 0.5052\n",
            "Epoch 5/15\n",
            "448/448 [==============================] - ETA: 0s - loss: 1.1945 - accuracy: 0.5421\n",
            "Epoch 00005: saving model to model_best.h5\n",
            "448/448 [==============================] - 14s 31ms/step - loss: 1.1945 - accuracy: 0.5421 - val_loss: 1.2040 - val_accuracy: 0.5473\n",
            "Epoch 6/15\n",
            "448/448 [==============================] - ETA: 0s - loss: 1.1539 - accuracy: 0.5612\n",
            "Epoch 00006: saving model to model_best.h5\n",
            "448/448 [==============================] - 14s 31ms/step - loss: 1.1539 - accuracy: 0.5612 - val_loss: 1.1336 - val_accuracy: 0.5718\n",
            "Epoch 7/15\n",
            "447/448 [============================>.] - ETA: 0s - loss: 1.1188 - accuracy: 0.5753\n",
            "Epoch 00007: saving model to model_best.h5\n",
            "448/448 [==============================] - 14s 31ms/step - loss: 1.1189 - accuracy: 0.5752 - val_loss: 1.0998 - val_accuracy: 0.5864\n",
            "Epoch 8/15\n",
            "448/448 [==============================] - ETA: 0s - loss: 1.0863 - accuracy: 0.5884\n",
            "Epoch 00008: saving model to model_best.h5\n",
            "448/448 [==============================] - 14s 31ms/step - loss: 1.0863 - accuracy: 0.5884 - val_loss: 1.0784 - val_accuracy: 0.5911\n",
            "Epoch 9/15\n",
            "448/448 [==============================] - ETA: 0s - loss: 1.0631 - accuracy: 0.5990\n",
            "Epoch 00009: saving model to model_best.h5\n",
            "448/448 [==============================] - 14s 31ms/step - loss: 1.0631 - accuracy: 0.5990 - val_loss: 1.1198 - val_accuracy: 0.5791\n",
            "Epoch 10/15\n",
            "448/448 [==============================] - ETA: 0s - loss: 1.0366 - accuracy: 0.6068\n",
            "Epoch 00010: saving model to model_best.h5\n",
            "448/448 [==============================] - 14s 31ms/step - loss: 1.0366 - accuracy: 0.6068 - val_loss: 1.0580 - val_accuracy: 0.5982\n",
            "Epoch 11/15\n",
            "448/448 [==============================] - ETA: 0s - loss: 1.0157 - accuracy: 0.6160\n",
            "Epoch 00011: saving model to model_best.h5\n",
            "448/448 [==============================] - 14s 31ms/step - loss: 1.0157 - accuracy: 0.6160 - val_loss: 1.0886 - val_accuracy: 0.5900\n",
            "Epoch 12/15\n",
            "448/448 [==============================] - ETA: 0s - loss: 0.9964 - accuracy: 0.6229\n",
            "Epoch 00012: saving model to model_best.h5\n",
            "448/448 [==============================] - 14s 32ms/step - loss: 0.9964 - accuracy: 0.6229 - val_loss: 1.0698 - val_accuracy: 0.6039\n",
            "Epoch 13/15\n",
            "447/448 [============================>.] - ETA: 0s - loss: 0.9228 - accuracy: 0.6531\n",
            "Epoch 00013: saving model to model_best.h5\n",
            "448/448 [==============================] - 14s 31ms/step - loss: 0.9228 - accuracy: 0.6530 - val_loss: 0.9711 - val_accuracy: 0.6396\n",
            "Epoch 14/15\n",
            "448/448 [==============================] - ETA: 0s - loss: 0.9070 - accuracy: 0.6594\n",
            "Epoch 00014: saving model to model_best.h5\n",
            "448/448 [==============================] - 14s 31ms/step - loss: 0.9070 - accuracy: 0.6594 - val_loss: 0.9768 - val_accuracy: 0.6410\n",
            "Epoch 15/15\n",
            "448/448 [==============================] - ETA: 0s - loss: 0.8852 - accuracy: 0.6672\n",
            "Epoch 00015: saving model to model_best.h5\n",
            "448/448 [==============================] - 14s 31ms/step - loss: 0.8852 - accuracy: 0.6672 - val_loss: 0.9885 - val_accuracy: 0.6396\n"
          ],
          "name": "stdout"
        }
      ]
    },
    {
      "cell_type": "code",
      "metadata": {
        "id": "K6TZtuRhB5C1",
        "colab_type": "code",
        "colab": {
          "base_uri": "https://localhost:8080/",
          "height": 298
        },
        "outputId": "1eea390e-ea3b-4a52-e36f-c6b44ef20693"
      },
      "source": [
        "plt.subplot(1,2,1)\n",
        "plt.plot(list(range(15)), history.history['accuracy'])\n",
        "plt.title(\"accuracy\")\n",
        "plt.subplot(1,2,2)\n",
        "plt.plot(list(range(15)), history.history['loss'])\n",
        "plt.title(\"loss\")"
      ],
      "execution_count": null,
      "outputs": [
        {
          "output_type": "execute_result",
          "data": {
            "text/plain": [
              "Text(0.5, 1.0, 'loss')"
            ]
          },
          "metadata": {
            "tags": []
          },
          "execution_count": 14
        },
        {
          "output_type": "display_data",
          "data": {
            "image/png": "[encoded data removed]",
            "text/plain": [
              "<Figure size 432x288 with 2 Axes>"
            ]
          },
          "metadata": {
            "tags": [],
            "needs_background": "light"
          }
        }
      ]
    },
    {
      "cell_type": "markdown",
      "metadata": {
        "id": "lYkzaxQv85zR",
        "colab_type": "text"
      },
      "source": [
        "# save model"
      ]
    },
    {
      "cell_type": "code",
      "metadata": {
        "id": "ChrO-lvABf5P",
        "colab_type": "code",
        "colab": {
          "base_uri": "https://localhost:8080/",
          "height": 121
        },
        "outputId": "0a906f62-1421-42c0-b532-3460195fe7c5"
      },
      "source": [
        "from google.colab import drive\n",
        "drive.mount('/content/drive')"
      ],
      "execution_count": null,
      "outputs": [
        {
          "output_type": "stream",
          "text": [
            "Go to this URL in a browser: https://accounts.google.com/o/oauth2/auth?client_id=947318989803-6bn6qk8qdgf4n4g3pfee6491hc0brc4i.apps.googleusercontent.com&redirect_uri=urn%3aietf%3awg%3aoauth%3a2.0%3aoob&scope=email%20https%3a%2f%2fwww.googleapis.com%2fauth%2fdocs.test%20https%3a%2f%2fwww.googleapis.com%2fauth%2fdrive%20https%3a%2f%2fwww.googleapis.com%2fauth%2fdrive.photos.readonly%20https%3a%2f%2fwww.googleapis.com%2fauth%2fpeopleapi.readonly&response_type=code\n",
            "\n",
            "Enter your authorization code:\n",
            "··········\n",
            "Mounted at /content/drive\n"
          ],
          "name": "stdout"
        }
      ]
    },
    {
      "cell_type": "code",
      "metadata": {
        "colab_type": "code",
        "id": "cHw8ir7CVAE0",
        "colab": {}
      },
      "source": [
        "model.save(\"/content/drive/My Drive/Facial Exp/model_acc64.h5\")"
      ],
      "execution_count": null,
      "outputs": []
    },
    {
      "cell_type": "code",
      "metadata": {
        "id": "Kqo2bIFLLmSX",
        "colab_type": "code",
        "colab": {}
      },
      "source": [
        "classes = {i:j for j,i in train_generator.class_indices.items()}"
      ],
      "execution_count": null,
      "outputs": []
    },
    {
      "cell_type": "code",
      "metadata": {
        "id": "vcNvogV8MwsV",
        "colab_type": "code",
        "colab": {
          "base_uri": "https://localhost:8080/",
          "height": 267
        },
        "outputId": "e3bc7a9a-9d89-4690-ea56-4130e485eb77"
      },
      "source": [
        "img = cv2.resize(io.imread(\"/content/data/Project/test/angry/PrivateTest_10131363.jpg\", as_gray=True), dsize=(48, 48), interpolation=cv2.INTER_CUBIC)\n",
        "plt.imshow(img, cmap='gray')\n",
        "cls = model.predict(np.expand_dims(np.expand_dims(img, axis=-1), axis=0))"
      ],
      "execution_count": null,
      "outputs": [
        {
          "output_type": "display_data",
          "data": {
            "image/png": "[encoded data removed]",
            "text/plain": [
              "<Figure size 432x288 with 1 Axes>"
            ]
          },
          "metadata": {
            "tags": [],
            "needs_background": "light"
          }
        }
      ]
    },
    {
      "cell_type": "code",
      "metadata": {
        "id": "frHaHJQwLndJ",
        "colab_type": "code",
        "colab": {
          "base_uri": "https://localhost:8080/",
          "height": 35
        },
        "outputId": "4e5fd0d7-3f14-40d5-8754-8e59016bb14c"
      },
      "source": [
        "classes[np.argmax(cls[0])]"
      ],
      "execution_count": null,
      "outputs": [
        {
          "output_type": "execute_result",
          "data": {
            "application/vnd.google.colaboratory.intrinsic+json": {
              "type": "string"
            },
            "text/plain": [
              "'angry'"
            ]
          },
          "metadata": {
            "tags": []
          },
          "execution_count": 28
        }
      ]
    },
    {
      "cell_type": "code",
      "metadata": {
        "id": "omUDRVqhMFIV",
        "colab_type": "code",
        "colab": {}
      },
      "source": [
        ""
      ],
      "execution_count": null,
      "outputs": []
    }
  ]
}